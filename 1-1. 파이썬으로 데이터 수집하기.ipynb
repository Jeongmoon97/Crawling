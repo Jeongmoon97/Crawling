{
 "cells": [
  {
   "cell_type": "markdown",
   "metadata": {},
   "source": [
    "## 1. 오픈소스 패키지 가져오기\n",
    "- Reqeusts : 웹상의 데이터를 가져올 수 있는 패키지 입니다. 데이터를 요청하고, 요청한 데이터를 받아 활용할 수 있습니다.\n",
    "- BeatifulSoup4 : 소스코드를 파싱하여 원하는 데이터를 선택/수집할 수 있게 도와주는 패키지 입니다. BS4를 사용하면 앞에서 배운 선택자를 통해 데이터를 선택할 수 있습니다."
   ]
  },
  {
   "cell_type": "code",
   "execution_count": 1,
   "metadata": {},
   "outputs": [],
   "source": [
    "import requests\n",
    "from bs4 import BeautifulSoup"
   ]
  },
  {
   "cell_type": "markdown",
   "metadata": {},
   "source": [
    "## 2. 웹에서 데이터 가져오기 - requests 사용하기\n",
    "\n",
    "requests의 get함수는 해당 URL주소에 접속을 요청하여 여러가지 데이터를 가져옵니다. (응답실패여부, 소스코드, url주소, 쿠키… 등)\n",
    "\n",
    "```python\n",
    "변수 = requests.get( \"URL주소\" )\n",
    "```\n",
    "\n",
    "- 변수 (기본) - 응답성공여부 // <response[200]>\n",
    "- 변수.text - 접속한 URL의 소스코드(HTML) // <head></head>...\n",
    "- 변수.elapsed - 페이지가 응답하는데 걸리는 시간 // 0:00:00.04452"
   ]
  },
  {
   "cell_type": "code",
   "execution_count": 2,
   "metadata": {},
   "outputs": [],
   "source": [
    "raw= requests.get(\"https://tv.naver.com/r/\")"
   ]
  },
  {
   "cell_type": "markdown",
   "metadata": {},
   "source": [
    "## 3. HTML소스코드 파싱하기 - BeautifulSoup 사용하기\n",
    "BeautifulSoup 함수는 html소스코드를 태그 기준으로 파싱해주는 일을 합니다. 쉽게 말하면 BeautifulSoup 을 사용해줘야 선택자를 사용할 수 있습니다."
   ]
  },
  {
   "cell_type": "code",
   "execution_count": 3,
   "metadata": {},
   "outputs": [],
   "source": [
    "html = BeautifulSoup(raw.text,'html.parser')"
   ]
  },
  {
   "cell_type": "markdown",
   "metadata": {},
   "source": [
    "## 4. 데이터수집 과정 이해하기(1-3위)\n",
    "\n",
    "### (1). 컨테이너 수집\n",
    "\n",
    "- select 함수는 괄호 안에 \"선택자\"를 넣어주면 선택자가 가리키는 **모든** 데이터를 선택하여 리스트형식으로 저장해줍니다.\n",
    "\n",
    "```python\n",
    "변수 = BS.select( \"선택자\" )\n",
    "```\n",
    "\n",
    "### (2). 영상별 데이터 수집\n",
    "\n",
    "- select_one 은 괄호 안의 선택자에 해당하는 데이터 중 첫번째 데이터 **하나만** 저장하는 함수입니다.\n",
    "\n",
    "```python\n",
    "변수 = BS.select_one(\"dt.title\")\n",
    "```\n",
    "\n",
    "### (3). 반복 수집\n",
    "\n",
    "- 범위( range() )를 통해 반복하는 경우 \n",
    "```python\n",
    "for i in range(len(container)):\n",
    "```\n",
    "\n",
    "- 리스트( container )를 통해 반복하는 경우\n",
    "```python\n",
    "for cont in container:\n",
    "```"
   ]
  },
  {
   "cell_type": "code",
   "execution_count": 4,
   "metadata": {
    "collapsed": true
   },
   "outputs": [
    {
     "name": "stdout",
     "output_type": "stream",
     "text": [
      "28R 왓포드 vs 리버풀 경기 하이라이트\n",
      "SPOTV_PL\n",
      "재생 수404,850\n",
      "좋아요 수1,062\n",
      "피아노와 혼연일체!!! 손열음의 터키행진곡 변주♪\n",
      "놀면 뭐하니?\n",
      "재생 수210,563\n",
      "좋아요 수4,816\n",
      "임영웅 ‘보라빛 엽서’♩ 심금을 울리는 목소리 ˘-˘乃\n",
      "미스터트롯\n",
      "재생 수1,485,101\n",
      "좋아요 수15,819\n"
     ]
    }
   ],
   "source": [
    "container = html.select(\"div.inner\")\n",
    "\n",
    "for cont in container:\n",
    "    title = cont.select_one(\"dt.title\")\n",
    "    chn = cont.select_one(\"dd.chn\")\n",
    "    hit = cont.select_one(\"span.hit\")\n",
    "    like = cont.select_one(\"span.like\")\n",
    "\n",
    "    # 변수 뒤에 .text 를 붙여주면 소스코드에서 태그가 삭제되고 텍스트 데이터만 추출 가능\n",
    "    # 공백은  strip() 함수를 통해 쉽게 제거 가능\n",
    "    print(title.text.strip())\n",
    "    print(chn.text.strip())\n",
    "    print(hit.text.strip())\n",
    "    print(like.text.strip())"
   ]
  }
 ],
 "metadata": {
  "kernelspec": {
   "display_name": "Python 3",
   "language": "python",
   "name": "python3"
  },
  "language_info": {
   "codemirror_mode": {
    "name": "ipython",
    "version": 3
   },
   "file_extension": ".py",
   "mimetype": "text/x-python",
   "name": "python",
   "nbconvert_exporter": "python",
   "pygments_lexer": "ipython3",
   "version": "3.7.4"
  }
 },
 "nbformat": 4,
 "nbformat_minor": 2
}
