{
 "cells": [
  {
   "cell_type": "code",
   "execution_count": 1,
   "metadata": {},
   "outputs": [],
   "source": [
    "import requests\n",
    "from bs4 import BeautifulSoup"
   ]
  },
  {
   "cell_type": "code",
   "execution_count": null,
   "metadata": {},
   "outputs": [],
   "source": []
  },
  {
   "cell_type": "code",
   "execution_count": 2,
   "metadata": {},
   "outputs": [],
   "source": [
    "raw= requests.get(\"https://tv.naver.com/r/\")\n",
    "html = BeautifulSoup(raw.text,'html.parser')"
   ]
  },
  {
   "cell_type": "code",
   "execution_count": 3,
   "metadata": {},
   "outputs": [],
   "source": [
    "container = html.select(\"div.inner\")"
   ]
  },
  {
   "cell_type": "code",
   "execution_count": 4,
   "metadata": {},
   "outputs": [
    {
     "name": "stdout",
     "output_type": "stream",
     "text": [
      "임영웅 ‘보라빛 엽서’♩ 심금을 울리는 목소리 ˘-˘乃\n",
      "미스터트롯\n",
      "재생 수1,302,724\n",
      "좋아요 수15,148\n",
      "※감탄 주의※ 유르페우스의 떨리는 손가락으로 시작된 연주!\n",
      "놀면 뭐하니?\n",
      "재생 수79,857\n",
      "좋아요 수886\n",
      "피아노와 혼연일체!!! 손열음의 터키행진곡 변주♪\n",
      "놀면 뭐하니?\n",
      "재생 수61,348\n",
      "좋아요 수1,634\n"
     ]
    }
   ],
   "source": [
    "for cont in container:\n",
    "    title = cont.select_one(\"dt.title\")\n",
    "    chn = cont.select_one(\"dd.chn\")\n",
    "    hit = cont.select_one(\"span.hit\")\n",
    "    like = cont.select_one(\"span.like\")\n",
    "\n",
    "    print(title.text.strip())\n",
    "    print(chn.text.strip())\n",
    "    print(hit.text.strip())\n",
    "    print(like.text.strip())"
   ]
  }
 ],
 "metadata": {
  "kernelspec": {
   "display_name": "Python 3",
   "language": "python",
   "name": "python3"
  },
  "language_info": {
   "codemirror_mode": {
    "name": "ipython",
    "version": 3
   },
   "file_extension": ".py",
   "mimetype": "text/x-python",
   "name": "python",
   "nbconvert_exporter": "python",
   "pygments_lexer": "ipython3",
   "version": "3.7.4"
  }
 },
 "nbformat": 4,
 "nbformat_minor": 2
}
