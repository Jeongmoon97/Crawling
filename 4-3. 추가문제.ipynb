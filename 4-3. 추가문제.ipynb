{
 "cells": [
  {
   "cell_type": "markdown",
   "metadata": {},
   "source": [
    "## Ex1. 네이버 로그인하기\n",
    "\n",
    "Selenium을 활용하여 네이버 로그인 페이지(https://nid.naver.com) 와 페이스북(https://www.facebook.com) 에 자동으로 로그인하는 프로그램을 만들어 봅니다.\n",
    "\n",
    "1. 로그인 절차에 대해 생각해봅니다.\n",
    "2. 아이디/비밀번호를 입력하고 로그인버튼을 누를 수 있는 선택자를 찾습니다.\n",
    "3. 코딩을 통해 자동 로그인 장치를 만들어봅니다.\n",
    "\n",
    "로그인에 성공하더라도 대형 서비스에서는 자동 로그인 방지 장치 때문에 서비스 이용은 어렵습니다. :)"
   ]
  },
  {
   "cell_type": "code",
   "execution_count": 1,
   "metadata": {},
   "outputs": [
    {
     "name": "stdout",
     "output_type": "stream",
     "text": [
      "아이디: 1234\n",
      "비밀번호: 1234\n"
     ]
    }
   ],
   "source": [
    "from selenium import webdriver\n",
    "import time\n",
    "\n",
    "아이디 = input('아이디: ')\n",
    "비밀번호 = input('비밀번호: ')\n",
    "\n",
    "driver = webdriver.Chrome('C:\\\\Users\\\\User\\\\Desktop/chromedriver')\n",
    "\n",
    "driver.get('https://nid.naver.com')\n",
    "\n",
    "ID = driver.find_element_by_css_selector('input#id')\n",
    "ID.send_keys(아이디)\n",
    "\n",
    "PW = driver.find_element_by_css_selector('input#pw')\n",
    "PW.send_keys(비밀번호)\n",
    "\n",
    "log_in = driver.find_element_by_css_selector('input.btn_global')\n",
    "log_in.click()\n",
    "\n",
    "driver.close()"
   ]
  },
  {
   "cell_type": "markdown",
   "metadata": {},
   "source": [
    "## Ex2. 인스타그램 본문 수집하기\n",
    "\n",
    "인스타그램에서 **맛집** 해시태그 검색결과(https://www.instagram.com/explore/tags/맛집/) 페이지에 접속해서 **12개** 포스트의 본문 내용을 수집합니다.\n",
    "1. 본문 데이터 수집을 수집을 위한 절차를 생각해봅니다.\n",
    "2. 선택자와 지연시기를 생각해봅니다.\n",
    "3. 코딩을 통해 본문 수집기를 완성합니다.\n",
    "\n",
    "인스타그램의 class / id 는 자동 생성프로그램에 의해 랜덤하게 생성됩니다."
   ]
  },
  {
   "cell_type": "markdown",
   "metadata": {},
   "source": [
    "**오류가 나는데 어떤 부분이 잘못된 건가ㅠㅠ**"
   ]
  },
  {
   "cell_type": "code",
   "execution_count": 2,
   "metadata": {},
   "outputs": [
    {
     "ename": "NoSuchElementException",
     "evalue": "Message: no such element: Unable to locate element: {\"method\":\"css selector\",\"selector\":\"button.dCJp8\"}\n  (Session info: chrome=80.0.3987.122)\n",
     "output_type": "error",
     "traceback": [
      "\u001b[1;31m---------------------------------------------------------------------------\u001b[0m",
      "\u001b[1;31mNoSuchElementException\u001b[0m                    Traceback (most recent call last)",
      "\u001b[1;32m<ipython-input-2-e9e7074dac56>\u001b[0m in \u001b[0;36m<module>\u001b[1;34m\u001b[0m\n\u001b[0;32m      7\u001b[0m \u001b[1;33m\u001b[0m\u001b[0m\n\u001b[0;32m      8\u001b[0m \u001b[1;31m# 로그인 창 닫기\u001b[0m\u001b[1;33m\u001b[0m\u001b[1;33m\u001b[0m\u001b[1;33m\u001b[0m\u001b[0m\n\u001b[1;32m----> 9\u001b[1;33m \u001b[0mlog\u001b[0m \u001b[1;33m=\u001b[0m \u001b[0mdriver\u001b[0m\u001b[1;33m.\u001b[0m\u001b[0mfind_element_by_css_selector\u001b[0m\u001b[1;33m(\u001b[0m\u001b[1;34m'button.dCJp8'\u001b[0m\u001b[1;33m)\u001b[0m\u001b[1;33m\u001b[0m\u001b[1;33m\u001b[0m\u001b[0m\n\u001b[0m\u001b[0;32m     10\u001b[0m \u001b[0mlog\u001b[0m\u001b[1;33m.\u001b[0m\u001b[0mclick\u001b[0m\u001b[1;33m(\u001b[0m\u001b[1;33m)\u001b[0m\u001b[1;33m\u001b[0m\u001b[1;33m\u001b[0m\u001b[0m\n\u001b[0;32m     11\u001b[0m \u001b[1;33m\u001b[0m\u001b[0m\n",
      "\u001b[1;32m~\\Anaconda3\\lib\\site-packages\\selenium\\webdriver\\remote\\webdriver.py\u001b[0m in \u001b[0;36mfind_element_by_css_selector\u001b[1;34m(self, css_selector)\u001b[0m\n\u001b[0;32m    596\u001b[0m             \u001b[0melement\u001b[0m \u001b[1;33m=\u001b[0m \u001b[0mdriver\u001b[0m\u001b[1;33m.\u001b[0m\u001b[0mfind_element_by_css_selector\u001b[0m\u001b[1;33m(\u001b[0m\u001b[1;34m'#foo'\u001b[0m\u001b[1;33m)\u001b[0m\u001b[1;33m\u001b[0m\u001b[1;33m\u001b[0m\u001b[0m\n\u001b[0;32m    597\u001b[0m         \"\"\"\n\u001b[1;32m--> 598\u001b[1;33m         \u001b[1;32mreturn\u001b[0m \u001b[0mself\u001b[0m\u001b[1;33m.\u001b[0m\u001b[0mfind_element\u001b[0m\u001b[1;33m(\u001b[0m\u001b[0mby\u001b[0m\u001b[1;33m=\u001b[0m\u001b[0mBy\u001b[0m\u001b[1;33m.\u001b[0m\u001b[0mCSS_SELECTOR\u001b[0m\u001b[1;33m,\u001b[0m \u001b[0mvalue\u001b[0m\u001b[1;33m=\u001b[0m\u001b[0mcss_selector\u001b[0m\u001b[1;33m)\u001b[0m\u001b[1;33m\u001b[0m\u001b[1;33m\u001b[0m\u001b[0m\n\u001b[0m\u001b[0;32m    599\u001b[0m \u001b[1;33m\u001b[0m\u001b[0m\n\u001b[0;32m    600\u001b[0m     \u001b[1;32mdef\u001b[0m \u001b[0mfind_elements_by_css_selector\u001b[0m\u001b[1;33m(\u001b[0m\u001b[0mself\u001b[0m\u001b[1;33m,\u001b[0m \u001b[0mcss_selector\u001b[0m\u001b[1;33m)\u001b[0m\u001b[1;33m:\u001b[0m\u001b[1;33m\u001b[0m\u001b[1;33m\u001b[0m\u001b[0m\n",
      "\u001b[1;32m~\\Anaconda3\\lib\\site-packages\\selenium\\webdriver\\remote\\webdriver.py\u001b[0m in \u001b[0;36mfind_element\u001b[1;34m(self, by, value)\u001b[0m\n\u001b[0;32m    976\u001b[0m         return self.execute(Command.FIND_ELEMENT, {\n\u001b[0;32m    977\u001b[0m             \u001b[1;34m'using'\u001b[0m\u001b[1;33m:\u001b[0m \u001b[0mby\u001b[0m\u001b[1;33m,\u001b[0m\u001b[1;33m\u001b[0m\u001b[1;33m\u001b[0m\u001b[0m\n\u001b[1;32m--> 978\u001b[1;33m             'value': value})['value']\n\u001b[0m\u001b[0;32m    979\u001b[0m \u001b[1;33m\u001b[0m\u001b[0m\n\u001b[0;32m    980\u001b[0m     \u001b[1;32mdef\u001b[0m \u001b[0mfind_elements\u001b[0m\u001b[1;33m(\u001b[0m\u001b[0mself\u001b[0m\u001b[1;33m,\u001b[0m \u001b[0mby\u001b[0m\u001b[1;33m=\u001b[0m\u001b[0mBy\u001b[0m\u001b[1;33m.\u001b[0m\u001b[0mID\u001b[0m\u001b[1;33m,\u001b[0m \u001b[0mvalue\u001b[0m\u001b[1;33m=\u001b[0m\u001b[1;32mNone\u001b[0m\u001b[1;33m)\u001b[0m\u001b[1;33m:\u001b[0m\u001b[1;33m\u001b[0m\u001b[1;33m\u001b[0m\u001b[0m\n",
      "\u001b[1;32m~\\Anaconda3\\lib\\site-packages\\selenium\\webdriver\\remote\\webdriver.py\u001b[0m in \u001b[0;36mexecute\u001b[1;34m(self, driver_command, params)\u001b[0m\n\u001b[0;32m    319\u001b[0m         \u001b[0mresponse\u001b[0m \u001b[1;33m=\u001b[0m \u001b[0mself\u001b[0m\u001b[1;33m.\u001b[0m\u001b[0mcommand_executor\u001b[0m\u001b[1;33m.\u001b[0m\u001b[0mexecute\u001b[0m\u001b[1;33m(\u001b[0m\u001b[0mdriver_command\u001b[0m\u001b[1;33m,\u001b[0m \u001b[0mparams\u001b[0m\u001b[1;33m)\u001b[0m\u001b[1;33m\u001b[0m\u001b[1;33m\u001b[0m\u001b[0m\n\u001b[0;32m    320\u001b[0m         \u001b[1;32mif\u001b[0m \u001b[0mresponse\u001b[0m\u001b[1;33m:\u001b[0m\u001b[1;33m\u001b[0m\u001b[1;33m\u001b[0m\u001b[0m\n\u001b[1;32m--> 321\u001b[1;33m             \u001b[0mself\u001b[0m\u001b[1;33m.\u001b[0m\u001b[0merror_handler\u001b[0m\u001b[1;33m.\u001b[0m\u001b[0mcheck_response\u001b[0m\u001b[1;33m(\u001b[0m\u001b[0mresponse\u001b[0m\u001b[1;33m)\u001b[0m\u001b[1;33m\u001b[0m\u001b[1;33m\u001b[0m\u001b[0m\n\u001b[0m\u001b[0;32m    322\u001b[0m             response['value'] = self._unwrap_value(\n\u001b[0;32m    323\u001b[0m                 response.get('value', None))\n",
      "\u001b[1;32m~\\Anaconda3\\lib\\site-packages\\selenium\\webdriver\\remote\\errorhandler.py\u001b[0m in \u001b[0;36mcheck_response\u001b[1;34m(self, response)\u001b[0m\n\u001b[0;32m    240\u001b[0m                 \u001b[0malert_text\u001b[0m \u001b[1;33m=\u001b[0m \u001b[0mvalue\u001b[0m\u001b[1;33m[\u001b[0m\u001b[1;34m'alert'\u001b[0m\u001b[1;33m]\u001b[0m\u001b[1;33m.\u001b[0m\u001b[0mget\u001b[0m\u001b[1;33m(\u001b[0m\u001b[1;34m'text'\u001b[0m\u001b[1;33m)\u001b[0m\u001b[1;33m\u001b[0m\u001b[1;33m\u001b[0m\u001b[0m\n\u001b[0;32m    241\u001b[0m             \u001b[1;32mraise\u001b[0m \u001b[0mexception_class\u001b[0m\u001b[1;33m(\u001b[0m\u001b[0mmessage\u001b[0m\u001b[1;33m,\u001b[0m \u001b[0mscreen\u001b[0m\u001b[1;33m,\u001b[0m \u001b[0mstacktrace\u001b[0m\u001b[1;33m,\u001b[0m \u001b[0malert_text\u001b[0m\u001b[1;33m)\u001b[0m\u001b[1;33m\u001b[0m\u001b[1;33m\u001b[0m\u001b[0m\n\u001b[1;32m--> 242\u001b[1;33m         \u001b[1;32mraise\u001b[0m \u001b[0mexception_class\u001b[0m\u001b[1;33m(\u001b[0m\u001b[0mmessage\u001b[0m\u001b[1;33m,\u001b[0m \u001b[0mscreen\u001b[0m\u001b[1;33m,\u001b[0m \u001b[0mstacktrace\u001b[0m\u001b[1;33m)\u001b[0m\u001b[1;33m\u001b[0m\u001b[1;33m\u001b[0m\u001b[0m\n\u001b[0m\u001b[0;32m    243\u001b[0m \u001b[1;33m\u001b[0m\u001b[0m\n\u001b[0;32m    244\u001b[0m     \u001b[1;32mdef\u001b[0m \u001b[0m_value_or_default\u001b[0m\u001b[1;33m(\u001b[0m\u001b[0mself\u001b[0m\u001b[1;33m,\u001b[0m \u001b[0mobj\u001b[0m\u001b[1;33m,\u001b[0m \u001b[0mkey\u001b[0m\u001b[1;33m,\u001b[0m \u001b[0mdefault\u001b[0m\u001b[1;33m)\u001b[0m\u001b[1;33m:\u001b[0m\u001b[1;33m\u001b[0m\u001b[1;33m\u001b[0m\u001b[0m\n",
      "\u001b[1;31mNoSuchElementException\u001b[0m: Message: no such element: Unable to locate element: {\"method\":\"css selector\",\"selector\":\"button.dCJp8\"}\n  (Session info: chrome=80.0.3987.122)\n"
     ]
    }
   ],
   "source": [
    "from selenium import webdriver\n",
    "import time\n",
    "\n",
    "driver = webdriver.Chrome('C:\\\\Users\\\\User\\\\Desktop/chromedriver')\n",
    "\n",
    "driver.get('https://www.instagram.com/explore/tags/맛집/')\n",
    "\n",
    "# 로그인 창 닫기\n",
    "log = driver.find_element_by_css_selector('button.dCJp8')\n",
    "log.click()\n",
    "\n",
    "# 컨테이너 : div.v1Nh3\n",
    "post = driver.find_elements_by_css_selector('div.v1Nh3')\n",
    "\n",
    "for p in post:\n",
    "    # 포스트 클릭\n",
    "    post.click()\n",
    "    time.sleep(5)\n",
    "    \n",
    "    # 같은 선택자인 데이터가 여러개지만 element 씀으로써 첫번째 데이터만 수집\n",
    "    content = driver.find_element_by_css_selector('div.C4VMK span').text\n",
    "    print(content)\n",
    "    \n",
    "    # 닫기 버튼 클릭\n",
    "    xbtn = driver.find_elements_by_css_selector('button.wpO6b')[5]\n",
    "    xbtn.click()"
   ]
  },
  {
   "cell_type": "markdown",
   "metadata": {},
   "source": [
    "## Ex3. BeautifulSoup과 Selenium을 이용해 관악구 스타벅스 찾기\n",
    "\n",
    "스타벅스 홈페이지 (https://www.istarbucks.co.kr/store/store_map.do) 에서 관악구 스타벅스를 찾아 매장명, 주소, 전화번호를 수집합니다.\n",
    "\n",
    "1. 메장명 데이터 수집을 수집을 위한 절차를 생각해봅니다.\n",
    "    - 웹페이지 접속\n",
    "    - '지역 검색' 버튼 클릭\n",
    "    - '서울' 클릭\n",
    "    - '관악구' 클릭\n",
    "    - 매장 정보 (매장명, 주소, 전화번호) 수집\n",
    "    \n",
    "    \n",
    "2. 선택자와 지연시기를 생각해봅니다.\n",
    "3. 코딩을 통해 수집기를 완성합니다."
   ]
  },
  {
   "cell_type": "code",
   "execution_count": 3,
   "metadata": {
    "scrolled": true
   },
   "outputs": [
    {
     "name": "stdout",
     "output_type": "stream",
     "text": [
      "신림역포도몰   서울특별시 관악구 신림로 330, PODO MALL 1층 101 일부 (신림동)02-758-8286\n",
      "신림   서울특별시 관악구 신림로 355-1 (신림동)02-758-8290\n",
      "신림사거리   서울특별시 관악구 남부순환로 1619 (신림동)02-758-8645\n",
      "보라매대교   서울특별시 관악구 보라매로3길 23, 대교빌딩 1층 (봉천동)02-758-8629\n",
      "사당   서울특별시 관악구 남부순환로 2082-2502-758-8721\n",
      "낙성대DT   서울특별시 관악구 남부순환로 1948 (봉천동)02-872-3249\n",
      "서울대역   서울특별시 관악구 남부순환로 1817 (봉천동)02-876-3252\n",
      "신림DT   서울특별시 관악구 남부순환로 1419 (신림동)02-851-3283\n",
      "관악서울대입구R   서울특별시 관악구 관악로 158 (봉천동)02-883-3725\n",
      "낙성대역   서울특별시 관악구 남부순환로 1908 (봉천동)02-882-3794\n"
     ]
    }
   ],
   "source": [
    "from bs4 import BeautifulSoup\n",
    "from selenium import webdriver\n",
    "import time\n",
    "\n",
    "driver = webdriver.Chrome('C:\\\\Users\\\\User\\\\Desktop/chromedriver')\n",
    "\n",
    "# 페이지 접속\n",
    "driver.get('https://www.istarbucks.co.kr/store/store_map.do')\n",
    "time.sleep(5)\n",
    "\n",
    "# 지역 검색\n",
    "loca = driver.find_element_by_css_selector('header.loca_search')\n",
    "loca.click()\n",
    "time.sleep(5)\n",
    "\n",
    "# 서울\n",
    "seoul = driver.find_elements_by_css_selector('ul.sido_arae_box li')\n",
    "seoul[0].click()\n",
    "time.sleep(5)\n",
    "\n",
    "# 관악구\n",
    "gwanak = driver.find_elements_by_css_selector('ul.gugun_arae_box li')\n",
    "gwanak[5].click()\n",
    "time.sleep(5)\n",
    "\n",
    "#매장 정보 수집\n",
    "# API를 이용해 현재 렌더링  페이지의 소스코드 모두 가져올 수 있다!! 따라서 raw.text도 안 해도 된다.\n",
    "raw = driver.page_source \n",
    "html = BeautifulSoup(raw, \"html.parser\")\n",
    "store = html.select(\"li.quickResultLstCon\")\n",
    "# 인덱스 10 부터 첫 번째 매장명이 나옴\n",
    "store = store[10:]\n",
    "\n",
    "for s in store:\n",
    "    name =  s.select_one('strong').text\n",
    "    addrtel = s.select_one('p.result_details').text\n",
    "    print(name, addrtel)\n",
    "\n",
    "driver.close()"
   ]
  }
 ],
 "metadata": {
  "kernelspec": {
   "display_name": "Python 3",
   "language": "python",
   "name": "python3"
  },
  "language_info": {
   "codemirror_mode": {
    "name": "ipython",
    "version": 3
   },
   "file_extension": ".py",
   "mimetype": "text/x-python",
   "name": "python",
   "nbconvert_exporter": "python",
   "pygments_lexer": "ipython3",
   "version": "3.7.4"
  }
 },
 "nbformat": 4,
 "nbformat_minor": 2
}
